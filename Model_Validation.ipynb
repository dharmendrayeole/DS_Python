{
  "nbformat": 4,
  "nbformat_minor": 0,
  "metadata": {
    "colab": {
      "provenance": []
    },
    "kernelspec": {
      "name": "python3",
      "display_name": "Python 3"
    },
    "language_info": {
      "name": "python"
    }
  },
  "cells": [
    {
      "cell_type": "markdown",
      "source": [
        "## Model Validation Methods"
      ],
      "metadata": {
        "id": "aLFciDWpC2zh"
      }
    },
    {
      "cell_type": "markdown",
      "source": [
        "1. Evaluate using train test split\n"
      ],
      "metadata": {
        "id": "JocG_JzxC9-8"
      }
    },
    {
      "cell_type": "code",
      "source": [
        "from pandas import read_csv\n",
        "from sklearn.model_selection import train_test_split\n",
        "from sklearn.linear_model import LogisticRegression\n",
        "\n",
        "filename=\"/content/pima-indians-diabetes.data.csv\"\n",
        "names=[\"preg\",\"plas\",\"pres\",\"skin\",\"test\",\"mass\",\"pedi\",\"age\",'class']\n",
        "dataframe=read_csv(filename,names=names)\n",
        "\n",
        "array=dataframe.values\n",
        "X=array[:,0:8]\n",
        "Y=array[:,8]\n",
        "test_size=0.33\n",
        "seed=7\n",
        "\n",
        "X_train,X_test,Y_train,Y_test=train_test_split(X,Y,test_size=test_size,random_state=seed)\n",
        "model=LogisticRegression()\n",
        "model.fit(X_train,Y_train)\n",
        "result=model.score(X_test,Y_test)"
      ],
      "metadata": {
        "id": "AmWsMurXCleA"
      },
      "execution_count": null,
      "outputs": []
    },
    {
      "cell_type": "code",
      "source": [
        "result"
      ],
      "metadata": {
        "colab": {
          "base_uri": "https://localhost:8080/"
        },
        "id": "yU-hsP-XClgH",
        "outputId": "7a998e8c-6322-4216-ec3f-d4bcfcb182d4"
      },
      "execution_count": null,
      "outputs": [
        {
          "output_type": "execute_result",
          "data": {
            "text/plain": [
              "0.7874015748031497"
            ]
          },
          "metadata": {},
          "execution_count": 2
        }
      ]
    },
    {
      "cell_type": "code",
      "source": [
        "dataframe"
      ],
      "metadata": {
        "id": "-zny5ZtOClkX"
      },
      "execution_count": null,
      "outputs": []
    },
    {
      "cell_type": "markdown",
      "source": [
        "2. K-Fold Validation"
      ],
      "metadata": {
        "id": "kFDvAnAwE-TV"
      }
    },
    {
      "cell_type": "code",
      "source": [
        "from pandas import read_csv\n",
        "from sklearn.model_selection import KFold\n",
        "from sklearn.model_selection import cross_val_score\n",
        "from sklearn.linear_model import LogisticRegression\n",
        "\n",
        "filename=\"/content/pima-indians-diabetes.data.csv\"\n",
        "names=[\"preg\",\"plas\",\"pres\",\"skin\",\"test\",\"mass\",\"pedi\",\"age\",'class']\n",
        "dataframe=read_csv(filename,names=names)"
      ],
      "metadata": {
        "id": "zduE4EXkClmv"
      },
      "execution_count": null,
      "outputs": []
    },
    {
      "cell_type": "code",
      "source": [
        "dataframe"
      ],
      "metadata": {
        "id": "0aostSXsClo3"
      },
      "execution_count": null,
      "outputs": []
    },
    {
      "cell_type": "code",
      "source": [
        "array=dataframe.values\n",
        "X=array[:,0:8]\n",
        "Y=array[:,8]\n",
        "num_folds=10\n",
        "seed=7\n",
        "kfold=KFold(n_splits=num_folds)\n",
        "model=LogisticRegression(max_iter=200)\n",
        "results=cross_val_score(model,X,Y,cv=kfold)"
      ],
      "metadata": {
        "id": "Jzssb33ECmgS"
      },
      "execution_count": null,
      "outputs": []
    },
    {
      "cell_type": "code",
      "source": [
        "results"
      ],
      "metadata": {
        "colab": {
          "base_uri": "https://localhost:8080/"
        },
        "id": "ICWTxLJHCmiq",
        "outputId": "be26fc34-7cec-4011-8f73-13f16bf5dd45"
      },
      "execution_count": null,
      "outputs": [
        {
          "output_type": "execute_result",
          "data": {
            "text/plain": [
              "array([0.68831169, 0.81818182, 0.76623377, 0.68831169, 0.77922078,\n",
              "       0.79220779, 0.84415584, 0.83116883, 0.75      , 0.80263158])"
            ]
          },
          "metadata": {},
          "execution_count": 7
        }
      ]
    },
    {
      "cell_type": "code",
      "source": [
        "results.mean()"
      ],
      "metadata": {
        "colab": {
          "base_uri": "https://localhost:8080/"
        },
        "id": "CfPeDmHVCmHg",
        "outputId": "0aa62c25-a8b7-49a2-c3eb-cf44fbf0ee0d"
      },
      "execution_count": null,
      "outputs": [
        {
          "output_type": "execute_result",
          "data": {
            "text/plain": [
              "0.7760423786739576"
            ]
          },
          "metadata": {},
          "execution_count": 8
        }
      ]
    },
    {
      "cell_type": "markdown",
      "source": [
        "3. Leave one out cross validation"
      ],
      "metadata": {
        "id": "LUkson2PGN-o"
      }
    },
    {
      "cell_type": "code",
      "source": [
        "from pandas import read_csv\n",
        "from sklearn.model_selection import LeaveOneOut,KFold\n",
        "from sklearn.model_selection import cross_val_score\n",
        "from sklearn.linear_model import LogisticRegression\n",
        "\n",
        "filename=\"/content/pima-indians-diabetes.data.csv\"\n",
        "names=[\"preg\",\"plas\",\"pres\",\"skin\",\"test\",\"mass\",\"pedi\",\"age\",'class']\n",
        "dataframe=read_csv(filename,names=names)\n",
        "\n",
        "array=dataframe.values\n",
        "X=array[:,0:8]\n",
        "Y=array[:,8]\n",
        "loocv=LeaveOneOut()\n",
        "model=LogisticRegression(max_iter=300)\n",
        "results=cross_val_score(model,X,Y,cv=loocv)"
      ],
      "metadata": {
        "id": "w3Z-BO1HCmJ8"
      },
      "execution_count": null,
      "outputs": []
    },
    {
      "cell_type": "code",
      "source": [
        "results"
      ],
      "metadata": {
        "id": "qDWogXA_CmL5"
      },
      "execution_count": null,
      "outputs": []
    },
    {
      "cell_type": "code",
      "source": [
        "results.mean()"
      ],
      "metadata": {
        "colab": {
          "base_uri": "https://localhost:8080/"
        },
        "id": "ElUwlVDnCmN_",
        "outputId": "aebbecd7-b62d-4d8a-8999-ebc2a2d8db61"
      },
      "execution_count": null,
      "outputs": [
        {
          "output_type": "execute_result",
          "data": {
            "text/plain": [
              "0.7760416666666666"
            ]
          },
          "metadata": {},
          "execution_count": 11
        }
      ]
    },
    {
      "cell_type": "code",
      "source": [],
      "metadata": {
        "id": "IrD8qtTKClrH"
      },
      "execution_count": null,
      "outputs": []
    },
    {
      "cell_type": "code",
      "source": [],
      "metadata": {
        "id": "8HRp4i_rCltf"
      },
      "execution_count": null,
      "outputs": []
    },
    {
      "cell_type": "code",
      "source": [],
      "metadata": {
        "id": "Ees3u9_EClvw"
      },
      "execution_count": null,
      "outputs": []
    },
    {
      "cell_type": "code",
      "source": [],
      "metadata": {
        "id": "lSPgv43BClx_"
      },
      "execution_count": null,
      "outputs": []
    }
  ]
}