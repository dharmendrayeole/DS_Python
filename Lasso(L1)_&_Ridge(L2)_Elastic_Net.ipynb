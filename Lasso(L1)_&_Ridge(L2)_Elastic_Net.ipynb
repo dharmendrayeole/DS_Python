{
  "nbformat": 4,
  "nbformat_minor": 0,
  "metadata": {
    "colab": {
      "provenance": []
    },
    "kernelspec": {
      "name": "python3",
      "display_name": "Python 3"
    },
    "language_info": {
      "name": "python"
    }
  },
  "cells": [
    {
      "cell_type": "code",
      "execution_count": null,
      "metadata": {
        "id": "HpTKwumiW7X9"
      },
      "outputs": [],
      "source": [
        "pip install scikit-learn==1.1.3"
      ]
    },
    {
      "cell_type": "code",
      "source": [
        "import pandas as pd\n",
        "import numpy as np\n",
        "import sklearn\n",
        "import matplotlib.pyplot as plt\n",
        "from sklearn import datasets\n",
        "from sklearn.model_selection import train_test_split\n",
        "from sklearn.linear_model import LinearRegression"
      ],
      "metadata": {
        "id": "4n8UA0tTW78I"
      },
      "execution_count": null,
      "outputs": []
    },
    {
      "cell_type": "code",
      "source": [
        "boston_dataset=datasets.load_boston()\n",
        "boston_dataset"
      ],
      "metadata": {
        "id": "WVAHXZ4EW7_l"
      },
      "execution_count": null,
      "outputs": []
    },
    {
      "cell_type": "code",
      "source": [
        "boston_pd=pd.DataFrame(boston_dataset.data)\n",
        "boston_pd.columns=boston_dataset.feature_names\n",
        "boston_pd_target=np.asarray(boston_dataset.target)\n",
        "boston_pd[\"House Price\"]=pd.Series(boston_pd_target)\n",
        "\n",
        "X=boston_pd.iloc[:,:-1]\n",
        "Y=boston_pd.iloc[:, -1]"
      ],
      "metadata": {
        "id": "gSg9Dwc_ZqFJ"
      },
      "execution_count": null,
      "outputs": []
    },
    {
      "cell_type": "code",
      "source": [
        "boston_pd"
      ],
      "metadata": {
        "id": "YWeX-DKdUJtD"
      },
      "execution_count": null,
      "outputs": []
    },
    {
      "cell_type": "code",
      "source": [
        "x_train,x_test,y_train,y_test=train_test_split(X,Y,test_size=0.35)"
      ],
      "metadata": {
        "id": "w8u9bjRoW8DQ"
      },
      "execution_count": null,
      "outputs": []
    },
    {
      "cell_type": "code",
      "source": [
        "x_test"
      ],
      "metadata": {
        "id": "R0mOmtwdW8Gl"
      },
      "execution_count": null,
      "outputs": []
    },
    {
      "cell_type": "code",
      "source": [
        "lreg=LinearRegression()\n",
        "lreg.fit(x_train,y_train)"
      ],
      "metadata": {
        "id": "KiiOthTJW8J-"
      },
      "execution_count": null,
      "outputs": []
    },
    {
      "cell_type": "code",
      "source": [
        "lreg_y_pred=lreg.predict(x_test)\n",
        "lreg_y_pred"
      ],
      "metadata": {
        "id": "Y5wXwuDfW8Ng"
      },
      "execution_count": null,
      "outputs": []
    },
    {
      "cell_type": "code",
      "source": [
        "mean_squared_error=np.mean((lreg_y_pred-y_test)**2)\n",
        "print(\"Mean Squared Error on test set:\",mean_squared_error)"
      ],
      "metadata": {
        "colab": {
          "base_uri": "https://localhost:8080/"
        },
        "id": "bOvQTamcW8RF",
        "outputId": "d34538b0-c8b3-43df-f02f-d5beb07229c3"
      },
      "execution_count": null,
      "outputs": [
        {
          "output_type": "stream",
          "name": "stdout",
          "text": [
            "Mean Squared Error on test set: 26.434471481726842\n"
          ]
        }
      ]
    },
    {
      "cell_type": "code",
      "source": [
        "lreg_coefficient=pd.DataFrame()\n",
        "lreg_coefficient[\"Columns\"]=x_train.columns\n",
        "lreg_coefficient[\"Coefficient Estimate\"]=pd.Series(lreg.coef_)\n",
        "print(lreg_coefficient)"
      ],
      "metadata": {
        "id": "1o9U7lkAW8Ud",
        "colab": {
          "base_uri": "https://localhost:8080/"
        },
        "outputId": "4112a007-5cc5-4309-b379-734b40565be9"
      },
      "execution_count": null,
      "outputs": [
        {
          "output_type": "stream",
          "name": "stdout",
          "text": [
            "    Columns  Coefficient Estimate\n",
            "0      CRIM             -0.101516\n",
            "1        ZN              0.046565\n",
            "2     INDUS              0.048389\n",
            "3      CHAS              2.252555\n",
            "4       NOX            -13.295118\n",
            "5        RM              4.665445\n",
            "6       AGE             -0.012461\n",
            "7       DIS             -1.216184\n",
            "8       RAD              0.276368\n",
            "9       TAX             -0.014393\n",
            "10  PTRATIO             -0.913303\n",
            "11        B              0.009134\n",
            "12    LSTAT             -0.388463\n"
          ]
        }
      ]
    },
    {
      "cell_type": "code",
      "source": [
        "plt.scatter(boston_pd[\"NOX\"],boston_pd[\"House Price\"])"
      ],
      "metadata": {
        "id": "FQhw6ciDW8YH",
        "colab": {
          "base_uri": "https://localhost:8080/",
          "height": 282
        },
        "outputId": "93d1a926-06f4-4765-8969-cbf435734c63"
      },
      "execution_count": null,
      "outputs": [
        {
          "output_type": "execute_result",
          "data": {
            "text/plain": [
              "<matplotlib.collections.PathCollection at 0x7f75204d14f0>"
            ]
          },
          "metadata": {},
          "execution_count": 14
        },
        {
          "output_type": "display_data",
          "data": {
            "text/plain": [
              "<Figure size 432x288 with 1 Axes>"
            ],
            "image/png": "[encoded data removed]"
          },
          "metadata": {
            "needs_background": "light"
          }
        }
      ]
    },
    {
      "cell_type": "code",
      "source": [
        "import seaborn as sns\n",
        "sns.barplot(x=\"Coefficient Estimate\",y=\"Columns\",data=lreg_coefficient)"
      ],
      "metadata": {
        "id": "sbs-zMcfW8is",
        "colab": {
          "base_uri": "https://localhost:8080/",
          "height": 296
        },
        "outputId": "a1a9518a-19a0-4e12-d621-f6174e117bf0"
      },
      "execution_count": null,
      "outputs": [
        {
          "output_type": "execute_result",
          "data": {
            "text/plain": [
              "<Axes: xlabel='Coefficient Estimate', ylabel='Columns'>"
            ]
          },
          "metadata": {},
          "execution_count": 15
        },
        {
          "output_type": "display_data",
          "data": {
            "text/plain": [
              "<Figure size 432x288 with 1 Axes>"
            ],
            "image/png": "[encoded data removed]"
          },
          "metadata": {
            "needs_background": "light"
          }
        }
      ]
    },
    {
      "cell_type": "markdown",
      "source": [
        "## Import Ridge Regression"
      ],
      "metadata": {
        "id": "XsTiRDmtbp86"
      }
    },
    {
      "cell_type": "code",
      "source": [
        "from sklearn.linear_model import Ridge\n",
        "\n",
        "ridgeR=Ridge(alpha=2)\n",
        "ridgeR.fit(x_train,y_train)\n",
        "y_pred=ridgeR.predict(x_test)"
      ],
      "metadata": {
        "id": "e2ee3583Zc6m"
      },
      "execution_count": null,
      "outputs": []
    },
    {
      "cell_type": "code",
      "source": [
        "mean_squared_error_ridge=np.mean((y_pred-y_test)**2)\n",
        "print(mean_squared_error_ridge)"
      ],
      "metadata": {
        "colab": {
          "base_uri": "https://localhost:8080/"
        },
        "id": "HQPPLDJ_ZdJA",
        "outputId": "43334725-5d9d-4630-9e9b-bad10c6050fd"
      },
      "execution_count": null,
      "outputs": [
        {
          "output_type": "stream",
          "name": "stdout",
          "text": [
            "27.326077174981936\n"
          ]
        }
      ]
    },
    {
      "cell_type": "code",
      "source": [
        "ridge_coefficient=pd.DataFrame()\n",
        "ridge_coefficient[\"Columns\"]=x_train.columns\n",
        "ridge_coefficient[\"Linear Coeff.Estimate\"]=pd.Series(lreg.coef_)\n",
        "ridge_coefficient[\"Ridge Coeff.Estimate\"]=pd.Series(ridgeR.coef_)\n",
        "print(ridge_coefficient)"
      ],
      "metadata": {
        "id": "o9l0UemiZdLh"
      },
      "execution_count": null,
      "outputs": []
    },
    {
      "cell_type": "markdown",
      "source": [
        "## Import Lasso Regression"
      ],
      "metadata": {
        "id": "M_D81L8YbWdN"
      }
    },
    {
      "cell_type": "code",
      "source": [
        "from sklearn.linear_model import Lasso\n",
        "lasso=Lasso(alpha=0.05)\n",
        "lasso.fit(x_train,y_train)\n",
        "y_pred1=lasso.predict(x_test)"
      ],
      "metadata": {
        "id": "bEo4QrGeZdPM"
      },
      "execution_count": null,
      "outputs": []
    },
    {
      "cell_type": "code",
      "source": [
        "mean_squared_error=np.mean((y_pred1-y_test)**2)\n",
        "print(\"Mean squared error on test set:\",mean_squared_error)"
      ],
      "metadata": {
        "colab": {
          "base_uri": "https://localhost:8080/"
        },
        "id": "_vEUEK4cZdRm",
        "outputId": "a2b13211-8d54-4400-e0a7-e1f216032ad5"
      },
      "execution_count": null,
      "outputs": [
        {
          "output_type": "stream",
          "name": "stdout",
          "text": [
            "Mean squared error on test set: 28.091339285049578\n"
          ]
        }
      ]
    },
    {
      "cell_type": "code",
      "source": [
        "lasso_coeff=pd.DataFrame()\n",
        "lasso_coeff[\"Columns\"]=x_train.columns\n",
        "lasso_coeff[\"Linear Coeff.Estimate\"]=pd.Series(lreg.coef_)\n",
        "lasso_coeff[\"Lasso Coeff.Estimate\"]=pd.Series(lasso.coef_)\n",
        "print(lasso_coeff)"
      ],
      "metadata": {
        "colab": {
          "base_uri": "https://localhost:8080/"
        },
        "id": "HbuR07qPZdUp",
        "outputId": "2fa4866a-0e05-49cf-dfb0-4a5c60fb2427"
      },
      "execution_count": null,
      "outputs": [
        {
          "output_type": "stream",
          "name": "stdout",
          "text": [
            "    Columns  Linear Coeff.Estimate  Lasso Coeff.Estimate\n",
            "0      CRIM              -0.101516             -0.096128\n",
            "1        ZN               0.046565              0.047214\n",
            "2     INDUS               0.048389             -0.006191\n",
            "3      CHAS               2.252555              1.412457\n",
            "4       NOX             -13.295118             -0.000000\n",
            "5        RM               4.665445              4.712816\n",
            "6       AGE              -0.012461             -0.022534\n",
            "7       DIS              -1.216184             -1.021895\n",
            "8       RAD               0.276368              0.258285\n",
            "9       TAX              -0.014393             -0.016520\n",
            "10  PTRATIO              -0.913303             -0.757424\n",
            "11        B               0.009134              0.009795\n",
            "12    LSTAT              -0.388463             -0.407193\n"
          ]
        }
      ]
    },
    {
      "cell_type": "markdown",
      "source": [
        "## Elastic Net"
      ],
      "metadata": {
        "id": "-jEXtLpzeVWo"
      }
    },
    {
      "cell_type": "code",
      "source": [
        "from sklearn.linear_model import ElasticNet\n",
        "\n",
        "e_net=ElasticNet(alpha=.01,l1_ratio=.3)\n",
        "e_net.fit(x_train,y_train)\n",
        "y_pred_elastic=e_net.predict(x_test)\n",
        "mean_squared_error=np.mean((y_pred_elastic-y_test)**2)\n",
        "print(\"Mean squared error on the test set:\",mean_squared_error)"
      ],
      "metadata": {
        "colab": {
          "base_uri": "https://localhost:8080/"
        },
        "id": "yAkFKlgzZdX_",
        "outputId": "4edccf47-af4b-4777-c904-50908c0ffe13"
      },
      "execution_count": null,
      "outputs": [
        {
          "output_type": "stream",
          "name": "stdout",
          "text": [
            "Mean squared error on the test set: 27.4057936382098\n"
          ]
        }
      ]
    },
    {
      "cell_type": "code",
      "source": [
        "e_net_coeff=pd.DataFrame()\n",
        "e_net_coeff[\"Columns\"]=x_train.columns\n",
        "e_net_coeff[\"Linear Coeff.Estimate\"]=pd.Series(lreg.coef_)\n",
        "e_net_coeff[\"Elastic Coeff.Estimate\"]=pd.Series(e_net.coef_)\n",
        "print(e_net_coeff)"
      ],
      "metadata": {
        "id": "-pGaEBIaW8rl",
        "colab": {
          "base_uri": "https://localhost:8080/"
        },
        "outputId": "aa491960-aa13-436f-8b2a-25b0c52d5c30"
      },
      "execution_count": null,
      "outputs": [
        {
          "output_type": "stream",
          "name": "stdout",
          "text": [
            "    Columns  Linear Coeff.Estimate  Elastic Coeff.Estimate\n",
            "0      CRIM              -0.101516               -0.098229\n",
            "1        ZN               0.046565                0.047562\n",
            "2     INDUS               0.048389                0.003302\n",
            "3      CHAS               2.252555                1.940286\n",
            "4       NOX             -13.295118               -3.683011\n",
            "5        RM               4.665445                4.690966\n",
            "6       AGE              -0.012461               -0.020499\n",
            "7       DIS              -1.216184               -1.095362\n",
            "8       RAD               0.276368                0.263327\n",
            "9       TAX              -0.014393               -0.015796\n",
            "10  PTRATIO              -0.913303               -0.801228\n",
            "11        B               0.009134                0.009552\n",
            "12    LSTAT              -0.388463               -0.402079\n"
          ]
        }
      ]
    },
    {
      "cell_type": "code",
      "source": [],
      "metadata": {
        "id": "Umhy_qknW8vM"
      },
      "execution_count": null,
      "outputs": []
    },
    {
      "cell_type": "code",
      "source": [],
      "metadata": {
        "id": "EQejtLnjW8zt"
      },
      "execution_count": null,
      "outputs": []
    }
  ]
}